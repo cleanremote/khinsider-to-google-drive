{
  "nbformat": 4,
  "nbformat_minor": 0,
  "metadata": {
    "colab": {
      "name": "Untitled0.ipynb",
      "provenance": []
    },
    "kernelspec": {
      "name": "python3",
      "display_name": "Python 3"
    }
  },
  "cells": [
    {
      "cell_type": "markdown",
      "metadata": {
        "id": "pUcxzxUlt0yF"
      },
      "source": [
        "Make sure you update the link that you want to download BEFORE you run the script.\r\n",
        "To copy - Go to File>Save a copy in drive\r\n",
        "To download - Go to Runtime>Run all"
      ]
    },
    {
      "cell_type": "code",
      "metadata": {
        "id": "HFGlDrVPt2cW"
      },
      "source": [
        "!apt install python python-pip"
      ],
      "execution_count": null,
      "outputs": []
    },
    {
      "cell_type": "code",
      "metadata": {
        "id": "4mONMTuqt3bd"
      },
      "source": [
        "from google.colab import drive\r\n",
        "drive.mount('/content/drive')"
      ],
      "execution_count": null,
      "outputs": []
    },
    {
      "cell_type": "code",
      "metadata": {
        "id": "tLzyxEWWt4XT"
      },
      "source": [
        "cd '/content/drive/My Drive'"
      ],
      "execution_count": null,
      "outputs": []
    },
    {
      "cell_type": "code",
      "metadata": {
        "id": "_qOjQdYat5Vh"
      },
      "source": [
        "mkdir khinsider"
      ],
      "execution_count": null,
      "outputs": []
    },
    {
      "cell_type": "code",
      "metadata": {
        "id": "u_5QmqvLt6aS"
      },
      "source": [
        "cd '/content/drive/My Drive/khinsider'"
      ],
      "execution_count": null,
      "outputs": []
    },
    {
      "cell_type": "code",
      "metadata": {
        "id": "GjhRE4i5t7mq"
      },
      "source": [
        "!wget https://raw.githubusercontent.com/obskyr/khinsider/master/khinsider.py"
      ],
      "execution_count": null,
      "outputs": []
    },
    {
      "cell_type": "code",
      "metadata": {
        "id": "4TKx-qa4t8t9"
      },
      "source": [
        "!python khinsider.py DELETE-THIS-AND-INPUT-LINK-HERE"
      ],
      "execution_count": null,
      "outputs": []
    },
    {
      "cell_type": "code",
      "metadata": {
        "id": "lKaL4Tx9t98B"
      },
      "source": [
        "!umount -rf /content/drive"
      ],
      "execution_count": null,
      "outputs": []
    }
  ]
}